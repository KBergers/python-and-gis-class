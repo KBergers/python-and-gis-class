{
 "cells": [
  {
   "cell_type": "code",
   "execution_count": 1,
   "metadata": {},
   "outputs": [
    {
     "ename": "NameError",
     "evalue": "name 'GeoDataFrame' is not defined",
     "output_type": "error",
     "traceback": [
      "\u001b[1;31m---------------------------------------------------------------------------\u001b[0m",
      "\u001b[1;31mNameError\u001b[0m                                 Traceback (most recent call last)",
      "\u001b[1;32m<ipython-input-1-5100551a3ec2>\u001b[0m in \u001b[0;36m<module>\u001b[1;34m()\u001b[0m\n\u001b[0;32m     25\u001b[0m \u001b[0mgrouped\u001b[0m \u001b[1;33m=\u001b[0m \u001b[0mgeodata_reproj\u001b[0m\u001b[1;33m.\u001b[0m\u001b[0mgroupby\u001b[0m\u001b[1;33m(\u001b[0m\u001b[1;34m\"userid\"\u001b[0m\u001b[1;33m)\u001b[0m\u001b[1;33m\u001b[0m\u001b[0m\n\u001b[0;32m     26\u001b[0m \u001b[1;33m\u001b[0m\u001b[0m\n\u001b[1;32m---> 27\u001b[1;33m \u001b[0mmovements\u001b[0m \u001b[1;33m=\u001b[0m \u001b[0mGeoDataFrame\u001b[0m\u001b[1;33m(\u001b[0m\u001b[1;33m)\u001b[0m\u001b[1;33m\u001b[0m\u001b[0m\n\u001b[0m",
      "\u001b[1;31mNameError\u001b[0m: name 'GeoDataFrame' is not defined"
     ]
    }
   ],
   "source": [
    "import geopandas as gpd\n",
    "import pandas as pd\n",
    "from shapely.geometry import Point\n",
    "from fiona.crs import from_epsg\n",
    "\n",
    "#Import data\n",
    "fp = \"C:\\\\Git\\\\python-and-gis-class\\\\intro-to-python-gis\\\\Kruger\\\\social_media_posts.txt\"\n",
    "data = pd.read_csv(fp)\n",
    "\n",
    "#Create empty geometry column and insert Point objects\n",
    "data[\"geometry\"] = None\n",
    "for i, row in data.iterrows():\n",
    "    data.loc[i, \"geometry\"] = Point(data.loc[i, \"lat\"], data.loc[i, \"lon\"])\n",
    "\n",
    "#Convert DataFrame to GeoDataFrame\n",
    "geodata = gpd.GeoDataFrame(data, geometry=\"geometry\", crs = from_epsg(4326))\n",
    "\n",
    "#Output to shapefile and plot\n",
    "outfp = \"C:\\\\temp\\\\shp\\\\Kruger.shp\"\n",
    "geodata.to_file(outfp)\n",
    "\n",
    "#Reproject data\n",
    "geodata_reproj = geodata.to_crs(epsg=32735)\n",
    "\n",
    "grouped = geodata_reproj.groupby(\"userid\")\n",
    "\n",
    "movements = gpd.GeoDataFrame()"
   ]
  },
  {
   "cell_type": "code",
   "execution_count": null,
   "metadata": {},
   "outputs": [],
   "source": [
    "grouped.head()"
   ]
  },
  {
   "cell_type": "code",
   "execution_count": null,
   "metadata": {},
   "outputs": [],
   "source": []
  }
 ],
 "metadata": {
  "kernelspec": {
   "display_name": "Python 3",
   "language": "python",
   "name": "python3"
  },
  "language_info": {
   "codemirror_mode": {
    "name": "ipython",
    "version": 3
   },
   "file_extension": ".py",
   "mimetype": "text/x-python",
   "name": "python",
   "nbconvert_exporter": "python",
   "pygments_lexer": "ipython3",
   "version": "3.6.5"
  }
 },
 "nbformat": 4,
 "nbformat_minor": 2
}

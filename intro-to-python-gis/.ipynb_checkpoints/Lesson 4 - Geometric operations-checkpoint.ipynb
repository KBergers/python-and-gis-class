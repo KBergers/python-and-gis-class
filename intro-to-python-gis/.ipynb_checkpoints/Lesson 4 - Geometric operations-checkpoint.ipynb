{
 "cells": [
  {
   "cell_type": "markdown",
   "metadata": {},
   "source": [
    "# Points in Polygon "
   ]
  },
  {
   "cell_type": "markdown",
   "metadata": {},
   "source": [
    "Computationally, detecting if a point is inside a polygon is most commonly done using a specific formula called Ray Casting algorithm. Luckily, we do not need to create such a function ourselves for conducting the Point in Polygon (PIP) query. Instead, we can take advantage of Shapely’s binary predicates that can evaluate the topological relationships between geographical objects\n",
    "\n",
    "There are basically two ways of conducting PIP in Shapely:\n",
    "\n",
    "1 - using a function called .within() that checks if a point is within a polygon\n",
    "\n",
    "2 - using a function called .contains() that checks if a polygon contains a point"
   ]
  },
  {
   "cell_type": "markdown",
   "metadata": {},
   "source": [
    "Let’s first create a Polygon using a list of coordinate-tuples and a couple of Point objects"
   ]
  },
  {
   "cell_type": "code",
   "execution_count": 3,
   "metadata": {},
   "outputs": [
    {
     "name": "stdout",
     "output_type": "stream",
     "text": [
      "True\n",
      "False\n"
     ]
    }
   ],
   "source": [
    "from shapely.geometry import Point, Polygon\n",
    "\n",
    "# Create Point objects\n",
    "p1 = Point(24.952242, 60.1696017)\n",
    "p2 = Point(24.976567, 60.1612500)\n",
    "\n",
    "# Create a Polygon\n",
    "coords = [(24.950899, 60.169158), (24.953492, 60.169158), (24.953510, 60.170104), (24.950958, 60.169990)]\n",
    "poly = Polygon(coords)\n",
    "\n",
    "# Check if p1 is within the polygon using the within function\n",
    "print(p1.within(poly))\n",
    "\n",
    "# Check if p2 is within the polygon\n",
    "print(p2.within(poly))"
   ]
  },
  {
   "cell_type": "code",
   "execution_count": 4,
   "metadata": {},
   "outputs": [
    {
     "name": "stdout",
     "output_type": "stream",
     "text": [
      "True\n",
      "False\n"
     ]
    }
   ],
   "source": [
    "# Does polygon contain p1?\n",
    "print(poly.contains(p1))\n",
    "\n",
    "# Does polygon contain p2?\n",
    "print(poly.contains(p2))"
   ]
  },
  {
   "cell_type": "markdown",
   "metadata": {},
   "source": [
    "# Intersect"
   ]
  },
  {
   "cell_type": "markdown",
   "metadata": {},
   "source": [
    "Another typical geospatial operation is to see if a geometry intersect or touches another one. The difference between these two is that:\n",
    "\n",
    "If objects intersect, the boundary and interior of an object needs to intersect in any way with those of the other.\n",
    "\n",
    "If an object touches the other one, it is only necessary to have (at least) a single point of their boundaries in common but their interiors should NOT intersect."
   ]
  },
  {
   "cell_type": "code",
   "execution_count": 5,
   "metadata": {},
   "outputs": [
    {
     "name": "stdout",
     "output_type": "stream",
     "text": [
      "True\n",
      "True\n"
     ]
    }
   ],
   "source": [
    "from shapely.geometry import LineString, MultiLineString\n",
    "\n",
    "# Create two lines\n",
    "line_a = LineString([(0, 0), (1, 1)])\n",
    "line_b = LineString([(1, 1), (0, 2)])\n",
    "\n",
    "print(line_a.intersects(line_b))\n",
    "print(line_a.touches(line_b))\n"
   ]
  },
  {
   "cell_type": "code",
   "execution_count": 7,
   "metadata": {},
   "outputs": [
    {
     "data": {
      "image/svg+xml": [
       "<svg xmlns=\"http://www.w3.org/2000/svg\" xmlns:xlink=\"http://www.w3.org/1999/xlink\" width=\"100.0\" height=\"100.0\" viewBox=\"-0.08 -0.08 1.1600000000000001 2.16\" preserveAspectRatio=\"xMinYMin meet\"><g transform=\"matrix(1,0,0,-1,0,2.0)\"><g><polyline fill=\"none\" stroke=\"#66cc99\" stroke-width=\"0.0432\" points=\"0.0,0.0 1.0,1.0\" opacity=\"0.8\" /><polyline fill=\"none\" stroke=\"#66cc99\" stroke-width=\"0.0432\" points=\"1.0,1.0 0.0,2.0\" opacity=\"0.8\" /></g></g></svg>"
      ],
      "text/plain": [
       "<shapely.geometry.multilinestring.MultiLineString at 0x34ae410>"
      ]
     },
     "execution_count": 7,
     "metadata": {},
     "output_type": "execute_result"
    }
   ],
   "source": [
    "# Create a MultiLineString\n",
    "multi_line = MultiLineString([line_a, line_b])\n",
    "multi_line"
   ]
  },
  {
   "cell_type": "markdown",
   "metadata": {},
   "source": [
    "# Point in Polygon using Geopandas"
   ]
  },
  {
   "cell_type": "markdown",
   "metadata": {},
   "source": [
    "Next we will do a practical example where we check which of the addresses from previous tutorial are located in Southern district of Helsinki, using kml files"
   ]
  },
  {
   "cell_type": "code",
   "execution_count": 17,
   "metadata": {},
   "outputs": [],
   "source": [
    "import geopandas as gpd\n",
    "fp = \"Addr/addresses.shp\"\n",
    "data = gpd.read_file(fp)"
   ]
  },
  {
   "cell_type": "code",
   "execution_count": 18,
   "metadata": {},
   "outputs": [
    {
     "data": {
      "text/html": [
       "<div>\n",
       "<style scoped>\n",
       "    .dataframe tbody tr th:only-of-type {\n",
       "        vertical-align: middle;\n",
       "    }\n",
       "\n",
       "    .dataframe tbody tr th {\n",
       "        vertical-align: top;\n",
       "    }\n",
       "\n",
       "    .dataframe thead th {\n",
       "        text-align: right;\n",
       "    }\n",
       "</style>\n",
       "<table border=\"1\" class=\"dataframe\">\n",
       "  <thead>\n",
       "    <tr style=\"text-align: right;\">\n",
       "      <th></th>\n",
       "      <th>id</th>\n",
       "      <th>addr</th>\n",
       "      <th>geometry</th>\n",
       "    </tr>\n",
       "  </thead>\n",
       "  <tbody>\n",
       "    <tr>\n",
       "      <th>0</th>\n",
       "      <td>1000</td>\n",
       "      <td>Itämerenkatu 14, 00101 Helsinki, Finland</td>\n",
       "      <td>POINT (24.9155624 60.1632015)</td>\n",
       "    </tr>\n",
       "    <tr>\n",
       "      <th>1</th>\n",
       "      <td>1001</td>\n",
       "      <td>Kampinkuja 1, 00100 Helsinki, Finland</td>\n",
       "      <td>POINT (24.9316914 60.1690222)</td>\n",
       "    </tr>\n",
       "    <tr>\n",
       "      <th>2</th>\n",
       "      <td>1002</td>\n",
       "      <td>Kaivokatu 8, 00101 Helsinki, Finland</td>\n",
       "      <td>POINT (24.94244049213 60.16988445)</td>\n",
       "    </tr>\n",
       "    <tr>\n",
       "      <th>3</th>\n",
       "      <td>1003</td>\n",
       "      <td>Hermannin rantatie 1, 00580 Helsinki, Finland</td>\n",
       "      <td>POINT (24.9654618 60.2009041)</td>\n",
       "    </tr>\n",
       "    <tr>\n",
       "      <th>4</th>\n",
       "      <td>1005</td>\n",
       "      <td>Tyynenmerenkatu 9, 00220 Helsinki, Finland</td>\n",
       "      <td>POINT (24.9216003 60.1566475)</td>\n",
       "    </tr>\n",
       "    <tr>\n",
       "      <th>5</th>\n",
       "      <td>1006</td>\n",
       "      <td>Kontulantie 18, 00940 Helsinki, Finland</td>\n",
       "      <td>POINT (25.0808489 60.2333682)</td>\n",
       "    </tr>\n",
       "    <tr>\n",
       "      <th>6</th>\n",
       "      <td>1007</td>\n",
       "      <td>Itäväylä 3, 00950 Helsinki, Finland</td>\n",
       "      <td>POINT (25.1109579 60.2216552)</td>\n",
       "    </tr>\n",
       "    <tr>\n",
       "      <th>7</th>\n",
       "      <td>1008</td>\n",
       "      <td>Tapulikaupungintie 3, 00750 Helsinki, Finland</td>\n",
       "      <td>POINT (25.0331561080774 60.2777903)</td>\n",
       "    </tr>\n",
       "    <tr>\n",
       "      <th>8</th>\n",
       "      <td>1009</td>\n",
       "      <td>Sompionpolku 2, 00730 Helsinki, Finland</td>\n",
       "      <td>POINT (25.0291169 60.2636285)</td>\n",
       "    </tr>\n",
       "    <tr>\n",
       "      <th>9</th>\n",
       "      <td>1010</td>\n",
       "      <td>Atomitie 5, 00370 Helsinki, Finland</td>\n",
       "      <td>POINT (24.8710287 60.222498)</td>\n",
       "    </tr>\n",
       "    <tr>\n",
       "      <th>10</th>\n",
       "      <td>1011</td>\n",
       "      <td>Rautatientori 1, 00100 Helsinki, Finland</td>\n",
       "      <td>POINT (24.9440942536239 60.17130125)</td>\n",
       "    </tr>\n",
       "    <tr>\n",
       "      <th>11</th>\n",
       "      <td>1012</td>\n",
       "      <td>Kuparitie 8, 00440 Helsinki, Finland</td>\n",
       "      <td>POINT (24.8842071 60.2305)</td>\n",
       "    </tr>\n",
       "    <tr>\n",
       "      <th>12</th>\n",
       "      <td>1013</td>\n",
       "      <td>Rumpupolku 8, 00420 Helsinki, Finland</td>\n",
       "      <td>POINT (24.8769977 60.2397435)</td>\n",
       "    </tr>\n",
       "    <tr>\n",
       "      <th>13</th>\n",
       "      <td>1014</td>\n",
       "      <td>Mäkitorpantie 1, 00620 Helsinki, Finland</td>\n",
       "      <td>POINT (24.9480051 60.2217879)</td>\n",
       "    </tr>\n",
       "    <tr>\n",
       "      <th>14</th>\n",
       "      <td>1015</td>\n",
       "      <td>Malminkaari 15, 00700 Helsinki, Finland</td>\n",
       "      <td>POINT (25.0130341 60.2513441)</td>\n",
       "    </tr>\n",
       "    <tr>\n",
       "      <th>15</th>\n",
       "      <td>1016</td>\n",
       "      <td>Kylätie 23, 00320 Helsinki, Finland</td>\n",
       "      <td>POINT (24.8941806817097 60.21721545)</td>\n",
       "    </tr>\n",
       "    <tr>\n",
       "      <th>16</th>\n",
       "      <td>1017</td>\n",
       "      <td>Malminkartanontie 17, 00410 Helsinki, Finland</td>\n",
       "      <td>POINT (24.8492072 60.2454277)</td>\n",
       "    </tr>\n",
       "    <tr>\n",
       "      <th>17</th>\n",
       "      <td>1018</td>\n",
       "      <td>Oulunkylän tori 2b, 00640 Helsinki, Finland</td>\n",
       "      <td>POINT (24.9655307 60.2294746)</td>\n",
       "    </tr>\n",
       "    <tr>\n",
       "      <th>18</th>\n",
       "      <td>1019</td>\n",
       "      <td>Ratapihantie 6, 00101 Helsinki, Finland</td>\n",
       "      <td>POINT (24.9339225 60.1995792)</td>\n",
       "    </tr>\n",
       "    <tr>\n",
       "      <th>19</th>\n",
       "      <td>1020</td>\n",
       "      <td>Pitäjänmäentie 15, 00370 Helsinki, Finland</td>\n",
       "      <td>POINT (24.8610322 60.224006)</td>\n",
       "    </tr>\n",
       "    <tr>\n",
       "      <th>20</th>\n",
       "      <td>1021</td>\n",
       "      <td>Eskolantie 2, 00720 Helsinki, Finland</td>\n",
       "      <td>POINT (24.9936217 60.2436491)</td>\n",
       "    </tr>\n",
       "    <tr>\n",
       "      <th>21</th>\n",
       "      <td>1022</td>\n",
       "      <td>Tattariharjuntie, 00700 Helsinki, Finland</td>\n",
       "      <td>POINT (25.0204879 60.243423)</td>\n",
       "    </tr>\n",
       "    <tr>\n",
       "      <th>22</th>\n",
       "      <td>1023</td>\n",
       "      <td>Tallinnanaukio 1, 00930 Helsinki, Finland</td>\n",
       "      <td>POINT (25.0783462 60.209819)</td>\n",
       "    </tr>\n",
       "    <tr>\n",
       "      <th>23</th>\n",
       "      <td>1024</td>\n",
       "      <td>Tyynylaavantie 7, 00980 Helsinki, Finland</td>\n",
       "      <td>POINT (25.1389163 60.2071633)</td>\n",
       "    </tr>\n",
       "    <tr>\n",
       "      <th>24</th>\n",
       "      <td>1025</td>\n",
       "      <td>Myllypurontie 5, 00920 Helsinki, Finland</td>\n",
       "      <td>POINT (25.0745932 60.2256065)</td>\n",
       "    </tr>\n",
       "    <tr>\n",
       "      <th>25</th>\n",
       "      <td>1026</td>\n",
       "      <td>Mellunmäenraitio 6, 00970 Helsinki, Finland</td>\n",
       "      <td>POINT (25.1098071 60.2380653)</td>\n",
       "    </tr>\n",
       "    <tr>\n",
       "      <th>26</th>\n",
       "      <td>1027</td>\n",
       "      <td>Vaasanpolku 2, 00101 Helsinki, Finland</td>\n",
       "      <td>POINT (24.9607487 60.1882163)</td>\n",
       "    </tr>\n",
       "    <tr>\n",
       "      <th>27</th>\n",
       "      <td>1028</td>\n",
       "      <td>Hiihtäjäntie 2, 00810 Helsinki, Finland</td>\n",
       "      <td>POINT (25.026632061488 60.1944775)</td>\n",
       "    </tr>\n",
       "    <tr>\n",
       "      <th>28</th>\n",
       "      <td>1029</td>\n",
       "      <td>Ukko-Pekan porras 2, 00570 Helsinki, Finland</td>\n",
       "      <td>POINT (25.0068082 60.1887169)</td>\n",
       "    </tr>\n",
       "    <tr>\n",
       "      <th>29</th>\n",
       "      <td>1030</td>\n",
       "      <td>Siltasaarenkatu 16, 00530 Helsinki, Finland</td>\n",
       "      <td>POINT (24.9495338 60.1794339)</td>\n",
       "    </tr>\n",
       "    <tr>\n",
       "      <th>30</th>\n",
       "      <td>1031</td>\n",
       "      <td>Urho Kekkosen katu 1, 00100 Helsinki, Finland</td>\n",
       "      <td>POINT (24.9331155798105 60.1690911)</td>\n",
       "    </tr>\n",
       "    <tr>\n",
       "      <th>31</th>\n",
       "      <td>1032</td>\n",
       "      <td>Ruoholahdenkatu 17, 00101 Helsinki, Finland</td>\n",
       "      <td>POINT (24.9251045 60.1649874)</td>\n",
       "    </tr>\n",
       "    <tr>\n",
       "      <th>32</th>\n",
       "      <td>1033</td>\n",
       "      <td>Tyynenmerenkatu 3, 00220 Helsinki, Finland</td>\n",
       "      <td>POINT (24.9212065 60.1587845)</td>\n",
       "    </tr>\n",
       "    <tr>\n",
       "      <th>33</th>\n",
       "      <td>1034</td>\n",
       "      <td>Vilhonkatu 4, 00101 Helsinki, Finland</td>\n",
       "      <td>POINT (24.9473289 60.1718719)</td>\n",
       "    </tr>\n",
       "  </tbody>\n",
       "</table>\n",
       "</div>"
      ],
      "text/plain": [
       "      id                                           addr  \\\n",
       "0   1000       Itämerenkatu 14, 00101 Helsinki, Finland   \n",
       "1   1001          Kampinkuja 1, 00100 Helsinki, Finland   \n",
       "2   1002           Kaivokatu 8, 00101 Helsinki, Finland   \n",
       "3   1003  Hermannin rantatie 1, 00580 Helsinki, Finland   \n",
       "4   1005     Tyynenmerenkatu 9, 00220 Helsinki, Finland   \n",
       "5   1006        Kontulantie 18, 00940 Helsinki, Finland   \n",
       "6   1007            Itäväylä 3, 00950 Helsinki, Finland   \n",
       "7   1008  Tapulikaupungintie 3, 00750 Helsinki, Finland   \n",
       "8   1009        Sompionpolku 2, 00730 Helsinki, Finland   \n",
       "9   1010            Atomitie 5, 00370 Helsinki, Finland   \n",
       "10  1011       Rautatientori 1, 00100 Helsinki, Finland   \n",
       "11  1012           Kuparitie 8, 00440 Helsinki, Finland   \n",
       "12  1013          Rumpupolku 8, 00420 Helsinki, Finland   \n",
       "13  1014       Mäkitorpantie 1, 00620 Helsinki, Finland   \n",
       "14  1015        Malminkaari 15, 00700 Helsinki, Finland   \n",
       "15  1016            Kylätie 23, 00320 Helsinki, Finland   \n",
       "16  1017  Malminkartanontie 17, 00410 Helsinki, Finland   \n",
       "17  1018    Oulunkylän tori 2b, 00640 Helsinki, Finland   \n",
       "18  1019        Ratapihantie 6, 00101 Helsinki, Finland   \n",
       "19  1020     Pitäjänmäentie 15, 00370 Helsinki, Finland   \n",
       "20  1021          Eskolantie 2, 00720 Helsinki, Finland   \n",
       "21  1022      Tattariharjuntie, 00700 Helsinki, Finland   \n",
       "22  1023      Tallinnanaukio 1, 00930 Helsinki, Finland   \n",
       "23  1024      Tyynylaavantie 7, 00980 Helsinki, Finland   \n",
       "24  1025       Myllypurontie 5, 00920 Helsinki, Finland   \n",
       "25  1026    Mellunmäenraitio 6, 00970 Helsinki, Finland   \n",
       "26  1027         Vaasanpolku 2, 00101 Helsinki, Finland   \n",
       "27  1028        Hiihtäjäntie 2, 00810 Helsinki, Finland   \n",
       "28  1029   Ukko-Pekan porras 2, 00570 Helsinki, Finland   \n",
       "29  1030    Siltasaarenkatu 16, 00530 Helsinki, Finland   \n",
       "30  1031  Urho Kekkosen katu 1, 00100 Helsinki, Finland   \n",
       "31  1032    Ruoholahdenkatu 17, 00101 Helsinki, Finland   \n",
       "32  1033     Tyynenmerenkatu 3, 00220 Helsinki, Finland   \n",
       "33  1034          Vilhonkatu 4, 00101 Helsinki, Finland   \n",
       "\n",
       "                                geometry  \n",
       "0          POINT (24.9155624 60.1632015)  \n",
       "1          POINT (24.9316914 60.1690222)  \n",
       "2     POINT (24.94244049213 60.16988445)  \n",
       "3          POINT (24.9654618 60.2009041)  \n",
       "4          POINT (24.9216003 60.1566475)  \n",
       "5          POINT (25.0808489 60.2333682)  \n",
       "6          POINT (25.1109579 60.2216552)  \n",
       "7    POINT (25.0331561080774 60.2777903)  \n",
       "8          POINT (25.0291169 60.2636285)  \n",
       "9           POINT (24.8710287 60.222498)  \n",
       "10  POINT (24.9440942536239 60.17130125)  \n",
       "11            POINT (24.8842071 60.2305)  \n",
       "12         POINT (24.8769977 60.2397435)  \n",
       "13         POINT (24.9480051 60.2217879)  \n",
       "14         POINT (25.0130341 60.2513441)  \n",
       "15  POINT (24.8941806817097 60.21721545)  \n",
       "16         POINT (24.8492072 60.2454277)  \n",
       "17         POINT (24.9655307 60.2294746)  \n",
       "18         POINT (24.9339225 60.1995792)  \n",
       "19          POINT (24.8610322 60.224006)  \n",
       "20         POINT (24.9936217 60.2436491)  \n",
       "21          POINT (25.0204879 60.243423)  \n",
       "22          POINT (25.0783462 60.209819)  \n",
       "23         POINT (25.1389163 60.2071633)  \n",
       "24         POINT (25.0745932 60.2256065)  \n",
       "25         POINT (25.1098071 60.2380653)  \n",
       "26         POINT (24.9607487 60.1882163)  \n",
       "27    POINT (25.026632061488 60.1944775)  \n",
       "28         POINT (25.0068082 60.1887169)  \n",
       "29         POINT (24.9495338 60.1794339)  \n",
       "30   POINT (24.9331155798105 60.1690911)  \n",
       "31         POINT (24.9251045 60.1649874)  \n",
       "32         POINT (24.9212065 60.1587845)  \n",
       "33         POINT (24.9473289 60.1718719)  "
      ]
     },
     "execution_count": 18,
     "metadata": {},
     "output_type": "execute_result"
    }
   ],
   "source": [
    "data"
   ]
  },
  {
   "cell_type": "markdown",
   "metadata": {},
   "source": [
    "Let’s enable the read and write functionalities for KML-driver by passing 'rw' to whitelist of fiona’s supported drivers"
   ]
  },
  {
   "cell_type": "code",
   "execution_count": 19,
   "metadata": {},
   "outputs": [],
   "source": [
    "import geopandas as gpd\n",
    "import matplotlib.pyplot as plt\n",
    "\n",
    "gpd.io.file.fiona.drvsupport.supported_drivers['KML'] = 'rw'"
   ]
  },
  {
   "cell_type": "code",
   "execution_count": 20,
   "metadata": {
    "scrolled": true
   },
   "outputs": [
    {
     "name": "stdout",
     "output_type": "stream",
     "text": [
      "                Name Description  \\\n",
      "0   Suur-Espoonlahti               \n",
      "1     Suur-Kauklahti               \n",
      "2        Vanha-Espoo               \n",
      "3      Pohjois-Espoo               \n",
      "4     Suur-Matinkylä               \n",
      "5         Kauniainen               \n",
      "6    Suur-Leppävaara               \n",
      "7       Suur-Tapiola               \n",
      "8           Myyrmäki               \n",
      "9            Kivistö               \n",
      "10         Eteläinen               \n",
      "11        Kaakkoinen               \n",
      "12          Keskinen               \n",
      "13          Läntinen               \n",
      "14         Pohjoinen               \n",
      "15         Koillinen               \n",
      "16         Aviapolis               \n",
      "17         Tikkurila               \n",
      "18         Koivukylä               \n",
      "19           Itäinen               \n",
      "20       Östersundom               \n",
      "21          Hakunila               \n",
      "22             Korso               \n",
      "\n",
      "                                             geometry  \n",
      "0   POLYGON Z ((24.775059677807 60.1090604462157 0...  \n",
      "1   POLYGON Z ((24.6157775254076 60.1725681273527 ...  \n",
      "2   POLYGON Z ((24.6757633262026 60.2120070032819 ...  \n",
      "3   POLYGON Z ((24.767921197401 60.2691954732391 0...  \n",
      "4   POLYGON Z ((24.7536131356802 60.1663051341717 ...  \n",
      "5   POLYGON Z ((24.6907528033566 60.2195779731868 ...  \n",
      "6   POLYGON Z ((24.797472695835 60.2082651196077 0...  \n",
      "7   POLYGON Z ((24.8443596422129 60.1659790707387 ...  \n",
      "8   POLYGON Z ((24.8245867448802 60.2902531157585 ...  \n",
      "9   POLYGON Z ((24.9430919106369 60.3384471629062 ...  \n",
      "10  POLYGON Z ((24.7827651307035 60.09997268858 0,...  \n",
      "11  POLYGON Z ((24.8480782099727 60.0275589731893 ...  \n",
      "12  POLYGON Z ((24.9085548098731 60.2082029641503 ...  \n",
      "13  POLYGON Z ((24.832174555671 60.2516121985945 0...  \n",
      "14  POLYGON Z ((24.8992644865152 60.2689368800439 ...  \n",
      "15  POLYGON Z ((24.9722813313308 60.2432476462193 ...  \n",
      "16  POLYGON Z ((24.9430919106369 60.3384471629062 ...  \n",
      "17  POLYGON Z ((24.9764047156358 60.2896890295612 ...  \n",
      "18  POLYGON Z ((24.9942315864552 60.3329637072809 ...  \n",
      "19  POLYGON Z ((25.0351655840904 60.23627484214 0,...  \n",
      "20  POLYGON Z ((25.233518559787 60.2565486562817 0...  \n",
      "21  POLYGON Z ((25.0847165922124 60.2724847557756 ...  \n",
      "22  POLYGON Z ((25.1238010972777 60.341907177167 0...  \n"
     ]
    }
   ],
   "source": [
    "# Filepath to KML file\n",
    "fp = \"Addr/PKS_suuralue.kml\"\n",
    "\n",
    "polys = gpd.read_file(fp, driver='KML')\n",
    "\n",
    "print(polys)"
   ]
  },
  {
   "cell_type": "markdown",
   "metadata": {},
   "source": [
    "Let’s select Eteläinen area and see where it is located, and plot also the points on top of the map."
   ]
  },
  {
   "cell_type": "code",
   "execution_count": 21,
   "metadata": {},
   "outputs": [
    {
     "data": {
      "image/png": "[encoded data removed]",
      "text/plain": [
       "<Figure size 432x288 with 1 Axes>"
      ]
     },
     "metadata": {},
     "output_type": "display_data"
    }
   ],
   "source": [
    "southern = polys[polys['Name']=='Eteläinen']\n",
    "\n",
    "southern.reset_index(drop=True, inplace=True)\n",
    "\n",
    "fig, ax = plt.subplots()\n",
    "polys.plot(ax=ax, facecolor='gray');\n",
    "southern.plot(ax=ax, facecolor='red');\n",
    "data.plot(ax=ax, color='blue', markersize=5);\n",
    "plt.tight_layout();"
   ]
  },
  {
   "cell_type": "code",
   "execution_count": 22,
   "metadata": {},
   "outputs": [
    {
     "name": "stdout",
     "output_type": "stream",
     "text": [
      "0      True\n",
      "1      True\n",
      "2      True\n",
      "3     False\n",
      "4      True\n",
      "5     False\n",
      "6     False\n",
      "7     False\n",
      "8     False\n",
      "9     False\n",
      "10     True\n",
      "11    False\n",
      "12    False\n",
      "13    False\n",
      "14    False\n",
      "15    False\n",
      "16    False\n",
      "17    False\n",
      "18    False\n",
      "19    False\n",
      "20    False\n",
      "21    False\n",
      "22    False\n",
      "23    False\n",
      "24    False\n",
      "25    False\n",
      "26    False\n",
      "27    False\n",
      "28    False\n",
      "29    False\n",
      "30     True\n",
      "31     True\n",
      "32     True\n",
      "33     True\n",
      "dtype: bool\n"
     ]
    }
   ],
   "source": [
    "#Enable shapely.speedups which makes some of the spatial queries running faster\n",
    "import shapely.speedups\n",
    "shapely.speedups.enable()\n",
    "\n",
    "#Let’s check which Points are within the southern Polygon.\n",
    "pip_mask = data.within(southern.loc[0, 'geometry'])\n",
    "print(pip_mask)"
   ]
  },
  {
   "cell_type": "code",
   "execution_count": 23,
   "metadata": {},
   "outputs": [
    {
     "data": {
      "text/html": [
       "<div>\n",
       "<style scoped>\n",
       "    .dataframe tbody tr th:only-of-type {\n",
       "        vertical-align: middle;\n",
       "    }\n",
       "\n",
       "    .dataframe tbody tr th {\n",
       "        vertical-align: top;\n",
       "    }\n",
       "\n",
       "    .dataframe thead th {\n",
       "        text-align: right;\n",
       "    }\n",
       "</style>\n",
       "<table border=\"1\" class=\"dataframe\">\n",
       "  <thead>\n",
       "    <tr style=\"text-align: right;\">\n",
       "      <th></th>\n",
       "      <th>id</th>\n",
       "      <th>addr</th>\n",
       "      <th>geometry</th>\n",
       "    </tr>\n",
       "  </thead>\n",
       "  <tbody>\n",
       "    <tr>\n",
       "      <th>0</th>\n",
       "      <td>1000</td>\n",
       "      <td>Itämerenkatu 14, 00101 Helsinki, Finland</td>\n",
       "      <td>POINT (24.9155624 60.1632015)</td>\n",
       "    </tr>\n",
       "    <tr>\n",
       "      <th>1</th>\n",
       "      <td>1001</td>\n",
       "      <td>Kampinkuja 1, 00100 Helsinki, Finland</td>\n",
       "      <td>POINT (24.9316914 60.1690222)</td>\n",
       "    </tr>\n",
       "    <tr>\n",
       "      <th>2</th>\n",
       "      <td>1002</td>\n",
       "      <td>Kaivokatu 8, 00101 Helsinki, Finland</td>\n",
       "      <td>POINT (24.94244049213 60.16988445)</td>\n",
       "    </tr>\n",
       "    <tr>\n",
       "      <th>4</th>\n",
       "      <td>1005</td>\n",
       "      <td>Tyynenmerenkatu 9, 00220 Helsinki, Finland</td>\n",
       "      <td>POINT (24.9216003 60.1566475)</td>\n",
       "    </tr>\n",
       "    <tr>\n",
       "      <th>10</th>\n",
       "      <td>1011</td>\n",
       "      <td>Rautatientori 1, 00100 Helsinki, Finland</td>\n",
       "      <td>POINT (24.9440942536239 60.17130125)</td>\n",
       "    </tr>\n",
       "    <tr>\n",
       "      <th>30</th>\n",
       "      <td>1031</td>\n",
       "      <td>Urho Kekkosen katu 1, 00100 Helsinki, Finland</td>\n",
       "      <td>POINT (24.9331155798105 60.1690911)</td>\n",
       "    </tr>\n",
       "    <tr>\n",
       "      <th>31</th>\n",
       "      <td>1032</td>\n",
       "      <td>Ruoholahdenkatu 17, 00101 Helsinki, Finland</td>\n",
       "      <td>POINT (24.9251045 60.1649874)</td>\n",
       "    </tr>\n",
       "    <tr>\n",
       "      <th>32</th>\n",
       "      <td>1033</td>\n",
       "      <td>Tyynenmerenkatu 3, 00220 Helsinki, Finland</td>\n",
       "      <td>POINT (24.9212065 60.1587845)</td>\n",
       "    </tr>\n",
       "    <tr>\n",
       "      <th>33</th>\n",
       "      <td>1034</td>\n",
       "      <td>Vilhonkatu 4, 00101 Helsinki, Finland</td>\n",
       "      <td>POINT (24.9473289 60.1718719)</td>\n",
       "    </tr>\n",
       "  </tbody>\n",
       "</table>\n",
       "</div>"
      ],
      "text/plain": [
       "      id                                           addr  \\\n",
       "0   1000       Itämerenkatu 14, 00101 Helsinki, Finland   \n",
       "1   1001          Kampinkuja 1, 00100 Helsinki, Finland   \n",
       "2   1002           Kaivokatu 8, 00101 Helsinki, Finland   \n",
       "4   1005     Tyynenmerenkatu 9, 00220 Helsinki, Finland   \n",
       "10  1011       Rautatientori 1, 00100 Helsinki, Finland   \n",
       "30  1031  Urho Kekkosen katu 1, 00100 Helsinki, Finland   \n",
       "31  1032    Ruoholahdenkatu 17, 00101 Helsinki, Finland   \n",
       "32  1033     Tyynenmerenkatu 3, 00220 Helsinki, Finland   \n",
       "33  1034          Vilhonkatu 4, 00101 Helsinki, Finland   \n",
       "\n",
       "                                geometry  \n",
       "0          POINT (24.9155624 60.1632015)  \n",
       "1          POINT (24.9316914 60.1690222)  \n",
       "2     POINT (24.94244049213 60.16988445)  \n",
       "4          POINT (24.9216003 60.1566475)  \n",
       "10  POINT (24.9440942536239 60.17130125)  \n",
       "30   POINT (24.9331155798105 60.1690911)  \n",
       "31         POINT (24.9251045 60.1649874)  \n",
       "32         POINT (24.9212065 60.1587845)  \n",
       "33         POINT (24.9473289 60.1718719)  "
      ]
     },
     "execution_count": 23,
     "metadata": {},
     "output_type": "execute_result"
    }
   ],
   "source": [
    "#Pass the pip_mask into the GeoDataFrame\n",
    "pip_data = data.loc[pip_mask]\n",
    "pip_data"
   ]
  },
  {
   "cell_type": "code",
   "execution_count": 24,
   "metadata": {},
   "outputs": [
    {
     "data": {
      "image/png": "[encoded data removed]",
      "text/plain": [
       "<Figure size 432x288 with 1 Axes>"
      ]
     },
     "metadata": {},
     "output_type": "display_data"
    }
   ],
   "source": [
    "#Confirm by plotting\n",
    "southern = polys[polys['Name']=='Eteläinen']\n",
    "southern.reset_index(drop=True, inplace=True)\n",
    "\n",
    "fig, ax = plt.subplots()\n",
    "polys.plot(ax=ax, facecolor='gray');\n",
    "southern.plot(ax=ax, facecolor='red');\n",
    "pip_data.plot(ax=ax, color='gold', markersize=2);\n",
    "plt.tight_layout()"
   ]
  },
  {
   "cell_type": "markdown",
   "metadata": {},
   "source": [
    "# Spatial join"
   ]
  },
  {
   "cell_type": "code",
   "execution_count": 26,
   "metadata": {},
   "outputs": [
    {
     "data": {
      "text/html": [
       "<div>\n",
       "<style scoped>\n",
       "    .dataframe tbody tr th:only-of-type {\n",
       "        vertical-align: middle;\n",
       "    }\n",
       "\n",
       "    .dataframe tbody tr th {\n",
       "        vertical-align: top;\n",
       "    }\n",
       "\n",
       "    .dataframe thead th {\n",
       "        text-align: right;\n",
       "    }\n",
       "</style>\n",
       "<table border=\"1\" class=\"dataframe\">\n",
       "  <thead>\n",
       "    <tr style=\"text-align: right;\">\n",
       "      <th></th>\n",
       "      <th>INDEX</th>\n",
       "      <th>ASUKKAITA</th>\n",
       "      <th>ASVALJYYS</th>\n",
       "      <th>IKA0_9</th>\n",
       "      <th>IKA10_19</th>\n",
       "      <th>IKA20_29</th>\n",
       "      <th>IKA30_39</th>\n",
       "      <th>IKA40_49</th>\n",
       "      <th>IKA50_59</th>\n",
       "      <th>IKA60_69</th>\n",
       "      <th>IKA70_79</th>\n",
       "      <th>IKA_YLI80</th>\n",
       "      <th>geometry</th>\n",
       "    </tr>\n",
       "  </thead>\n",
       "  <tbody>\n",
       "    <tr>\n",
       "      <th>0</th>\n",
       "      <td>688</td>\n",
       "      <td>8</td>\n",
       "      <td>31.0</td>\n",
       "      <td>99</td>\n",
       "      <td>99</td>\n",
       "      <td>99</td>\n",
       "      <td>99</td>\n",
       "      <td>99</td>\n",
       "      <td>99</td>\n",
       "      <td>99</td>\n",
       "      <td>99</td>\n",
       "      <td>99</td>\n",
       "      <td>POLYGON ((25472499.99532626 6689749.005069185,...</td>\n",
       "    </tr>\n",
       "    <tr>\n",
       "      <th>1</th>\n",
       "      <td>703</td>\n",
       "      <td>6</td>\n",
       "      <td>42.0</td>\n",
       "      <td>99</td>\n",
       "      <td>99</td>\n",
       "      <td>99</td>\n",
       "      <td>99</td>\n",
       "      <td>99</td>\n",
       "      <td>99</td>\n",
       "      <td>99</td>\n",
       "      <td>99</td>\n",
       "      <td>99</td>\n",
       "      <td>POLYGON ((25472499.99532626 6685998.998064222,...</td>\n",
       "    </tr>\n",
       "    <tr>\n",
       "      <th>2</th>\n",
       "      <td>710</td>\n",
       "      <td>8</td>\n",
       "      <td>44.0</td>\n",
       "      <td>99</td>\n",
       "      <td>99</td>\n",
       "      <td>99</td>\n",
       "      <td>99</td>\n",
       "      <td>99</td>\n",
       "      <td>99</td>\n",
       "      <td>99</td>\n",
       "      <td>99</td>\n",
       "      <td>99</td>\n",
       "      <td>POLYGON ((25472499.99532626 6684249.004130407,...</td>\n",
       "    </tr>\n",
       "    <tr>\n",
       "      <th>3</th>\n",
       "      <td>711</td>\n",
       "      <td>7</td>\n",
       "      <td>64.0</td>\n",
       "      <td>99</td>\n",
       "      <td>99</td>\n",
       "      <td>99</td>\n",
       "      <td>99</td>\n",
       "      <td>99</td>\n",
       "      <td>99</td>\n",
       "      <td>99</td>\n",
       "      <td>99</td>\n",
       "      <td>99</td>\n",
       "      <td>POLYGON ((25472499.99532626 6683999.004997005,...</td>\n",
       "    </tr>\n",
       "    <tr>\n",
       "      <th>4</th>\n",
       "      <td>715</td>\n",
       "      <td>19</td>\n",
       "      <td>23.0</td>\n",
       "      <td>99</td>\n",
       "      <td>99</td>\n",
       "      <td>99</td>\n",
       "      <td>99</td>\n",
       "      <td>99</td>\n",
       "      <td>99</td>\n",
       "      <td>99</td>\n",
       "      <td>99</td>\n",
       "      <td>99</td>\n",
       "      <td>POLYGON ((25472499.99532626 6682998.998461431,...</td>\n",
       "    </tr>\n",
       "  </tbody>\n",
       "</table>\n",
       "</div>"
      ],
      "text/plain": [
       "   INDEX  ASUKKAITA  ASVALJYYS  IKA0_9  IKA10_19  IKA20_29  IKA30_39  \\\n",
       "0    688          8       31.0      99        99        99        99   \n",
       "1    703          6       42.0      99        99        99        99   \n",
       "2    710          8       44.0      99        99        99        99   \n",
       "3    711          7       64.0      99        99        99        99   \n",
       "4    715         19       23.0      99        99        99        99   \n",
       "\n",
       "   IKA40_49  IKA50_59  IKA60_69  IKA70_79  IKA_YLI80  \\\n",
       "0        99        99        99        99         99   \n",
       "1        99        99        99        99         99   \n",
       "2        99        99        99        99         99   \n",
       "3        99        99        99        99         99   \n",
       "4        99        99        99        99         99   \n",
       "\n",
       "                                            geometry  \n",
       "0  POLYGON ((25472499.99532626 6689749.005069185,...  \n",
       "1  POLYGON ((25472499.99532626 6685998.998064222,...  \n",
       "2  POLYGON ((25472499.99532626 6684249.004130407,...  \n",
       "3  POLYGON ((25472499.99532626 6683999.004997005,...  \n",
       "4  POLYGON ((25472499.99532626 6682998.998461431,...  "
      ]
     },
     "execution_count": 26,
     "metadata": {},
     "output_type": "execute_result"
    }
   ],
   "source": [
    "import geopandas as gpd\n",
    "\n",
    "# Filepath\n",
    "fp = \"Pop15/Vaestotietoruudukko_2015.shp\"\n",
    "\n",
    "# Read the data\n",
    "pop = gpd.read_file(fp)\n",
    "\n",
    "pop.head()"
   ]
  },
  {
   "cell_type": "markdown",
   "metadata": {},
   "source": [
    "So we have multiple columns in the dataset but the most important one here is the column ASUKKAITA (population in Finnish) that tells the amount of inhabitants living under that polygon."
   ]
  },
  {
   "cell_type": "code",
   "execution_count": 29,
   "metadata": {},
   "outputs": [],
   "source": [
    "# Change the name of a column\n",
    "pop = pop.rename(columns={'ASUKKAITA': 'pop15'})\n",
    "\n",
    "# Columns that will be sected\n",
    "selected_cols = ['pop15', 'geometry']\n",
    "\n",
    "# Select those columns\n",
    "pop = pop[selected_cols]"
   ]
  },
  {
   "cell_type": "code",
   "execution_count": 38,
   "metadata": {},
   "outputs": [],
   "source": [
    "#Import address shapefile\n",
    "fp = \"C:\\\\Git\\\\CSC18\\\\data\\\\addresses_epsg3879.shp\"\n",
    "addresses = gpd.read_file(fp)"
   ]
  },
  {
   "cell_type": "code",
   "execution_count": 39,
   "metadata": {},
   "outputs": [
    {
     "name": "stdout",
     "output_type": "stream",
     "text": [
      "{'proj': 'tmerc', 'lat_0': 0, 'lon_0': 25, 'k': 1, 'x_0': 25500000, 'y_0': 0, 'ellps': 'GRS80', 'units': 'm', 'no_defs': True}\n",
      "{'proj': 'tmerc', 'lat_0': 0, 'lon_0': 25, 'k': 1, 'x_0': 25500000, 'y_0': 0, 'ellps': 'GRS80', 'units': 'm', 'no_defs': True}\n"
     ]
    }
   ],
   "source": [
    "# Check the crs of address points\n",
    "print(addresses.crs)\n",
    "\n",
    "# Check the crs of population layer\n",
    "print(pop.crs)"
   ]
  },
  {
   "cell_type": "code",
   "execution_count": 40,
   "metadata": {},
   "outputs": [
    {
     "data": {
      "text/html": [
       "<div>\n",
       "<style scoped>\n",
       "    .dataframe tbody tr th:only-of-type {\n",
       "        vertical-align: middle;\n",
       "    }\n",
       "\n",
       "    .dataframe tbody tr th {\n",
       "        vertical-align: top;\n",
       "    }\n",
       "\n",
       "    .dataframe thead th {\n",
       "        text-align: right;\n",
       "    }\n",
       "</style>\n",
       "<table border=\"1\" class=\"dataframe\">\n",
       "  <thead>\n",
       "    <tr style=\"text-align: right;\">\n",
       "      <th></th>\n",
       "      <th>address</th>\n",
       "      <th>id</th>\n",
       "      <th>geometry</th>\n",
       "      <th>index_right</th>\n",
       "      <th>pop15</th>\n",
       "    </tr>\n",
       "  </thead>\n",
       "  <tbody>\n",
       "    <tr>\n",
       "      <th>0</th>\n",
       "      <td>Kampinkuja 1, 00100 Helsinki, Finland</td>\n",
       "      <td>1001</td>\n",
       "      <td>POINT (25496123.30852197 6672833.941567578)</td>\n",
       "      <td>3326</td>\n",
       "      <td>173</td>\n",
       "    </tr>\n",
       "    <tr>\n",
       "      <th>1</th>\n",
       "      <td>Kaivokatu 8, 00101 Helsinki, Finland</td>\n",
       "      <td>1002</td>\n",
       "      <td>POINT (25496774.28242895 6672999.698581985)</td>\n",
       "      <td>3449</td>\n",
       "      <td>31</td>\n",
       "    </tr>\n",
       "    <tr>\n",
       "      <th>10</th>\n",
       "      <td>Rautatientori 1, 00100 Helsinki, Finland</td>\n",
       "      <td>1011</td>\n",
       "      <td>POINT (25496808.64582102 6673146.836896984)</td>\n",
       "      <td>3449</td>\n",
       "      <td>31</td>\n",
       "    </tr>\n",
       "    <tr>\n",
       "      <th>3</th>\n",
       "      <td>Itäväylä, 00900 Helsinki, Finland</td>\n",
       "      <td>1004</td>\n",
       "      <td>POINT (25505098.34340289 6677972.568484426)</td>\n",
       "      <td>5112</td>\n",
       "      <td>353</td>\n",
       "    </tr>\n",
       "    <tr>\n",
       "      <th>4</th>\n",
       "      <td>Tyynenmerenkatu 9, 00220 Helsinki, Finland</td>\n",
       "      <td>1005</td>\n",
       "      <td>POINT (25495639.56049686 6671520.343245601)</td>\n",
       "      <td>3259</td>\n",
       "      <td>1397</td>\n",
       "    </tr>\n",
       "  </tbody>\n",
       "</table>\n",
       "</div>"
      ],
      "text/plain": [
       "                                       address    id  \\\n",
       "0        Kampinkuja 1, 00100 Helsinki, Finland  1001   \n",
       "1         Kaivokatu 8, 00101 Helsinki, Finland  1002   \n",
       "10    Rautatientori 1, 00100 Helsinki, Finland  1011   \n",
       "3            Itäväylä, 00900 Helsinki, Finland  1004   \n",
       "4   Tyynenmerenkatu 9, 00220 Helsinki, Finland  1005   \n",
       "\n",
       "                                       geometry  index_right  pop15  \n",
       "0   POINT (25496123.30852197 6672833.941567578)         3326    173  \n",
       "1   POINT (25496774.28242895 6672999.698581985)         3449     31  \n",
       "10  POINT (25496808.64582102 6673146.836896984)         3449     31  \n",
       "3   POINT (25505098.34340289 6677972.568484426)         5112    353  \n",
       "4   POINT (25495639.56049686 6671520.343245601)         3259   1397  "
      ]
     },
     "execution_count": 40,
     "metadata": {},
     "output_type": "execute_result"
    }
   ],
   "source": [
    "# Make a spatial join\n",
    "join = gpd.sjoin(addresses, pop, how=\"inner\", op=\"within\")\n",
    "\n",
    "# Let's check the result\n",
    "join.head()"
   ]
  },
  {
   "cell_type": "markdown",
   "metadata": {},
   "source": [
    "Now we have performed a successful spatial join where we got two new columns into our join GeoDataFrame, i.e. index_right that tells the index of the matching polygon in the pop layer and pop15 which is the population in the cell where the address-point is located."
   ]
  },
  {
   "cell_type": "code",
   "execution_count": 45,
   "metadata": {},
   "outputs": [],
   "source": [
    "# Output path\n",
    "outfp = r\"Addr/addresses_pop15_epsg3979.shp\"\n",
    "\n",
    "# Save to disk\n",
    "join.to_file(outfp)"
   ]
  },
  {
   "cell_type": "markdown",
   "metadata": {},
   "source": [
    "Plot the points and use the pop15 column to indicate the color. cmap -parameter tells to use a sequential colormap for the values, markersize adjusts the size of a point, scheme parameter can be used to adjust the classification method based on pysal, and legend tells that we want to have a legend."
   ]
  },
  {
   "cell_type": "code",
   "execution_count": 47,
   "metadata": {},
   "outputs": [
    {
     "data": {
      "image/png": "[encoded data removed]",
      "text/plain": [
       "<Figure size 432x288 with 1 Axes>"
      ]
     },
     "metadata": {},
     "output_type": "display_data"
    }
   ],
   "source": [
    "import matplotlib.pyplot as plt\n",
    "\n",
    "# Plot the points with population info\n",
    "join.plot(column='pop15', cmap=\"Reds\", markersize=7, scheme='fisher_jenks', legend=True);\n",
    "\n",
    "# Add title\n",
    "plt.title(\"Amount of inhabitants living close the the point\");\n",
    "\n",
    "# Remove white space around the figure\n",
    "plt.tight_layout()"
   ]
  },
  {
   "cell_type": "markdown",
   "metadata": {},
   "source": [
    "# Nearest Neighbour Analysis"
   ]
  },
  {
   "cell_type": "markdown",
   "metadata": {},
   "source": [
    "###  Nearest point using Shapely"
   ]
  },
  {
   "cell_type": "markdown",
   "metadata": {},
   "source": [
    "Let’s create an origin Point and a few destination Points and find out the closest destination."
   ]
  },
  {
   "cell_type": "code",
   "execution_count": 48,
   "metadata": {},
   "outputs": [],
   "source": [
    "from shapely.geometry import Point, MultiPoint\n",
    "from shapely.ops import nearest_points\n",
    "\n",
    "orig = Point(1, 1.67)\n",
    "\n",
    "dest1, dest2, dest3 = Point(0, 1.45), Point(2, 2), Point(0, 2.5)"
   ]
  },
  {
   "cell_type": "markdown",
   "metadata": {},
   "source": [
    "To be able to find out the closest destination point from the origin, we need to create a MultiPoint object from the destination points."
   ]
  },
  {
   "cell_type": "code",
   "execution_count": 49,
   "metadata": {},
   "outputs": [
    {
     "name": "stdout",
     "output_type": "stream",
     "text": [
      "MULTIPOINT (0 1.45, 2 2, 0 2.5)\n"
     ]
    }
   ],
   "source": [
    "destinations = MultiPoint([dest1, dest2, dest3])\n",
    "print(destinations)"
   ]
  },
  {
   "cell_type": "markdown",
   "metadata": {},
   "source": [
    "Now we can find out the nearest destination point by using nearest_points() function"
   ]
  },
  {
   "cell_type": "code",
   "execution_count": 50,
   "metadata": {},
   "outputs": [
    {
     "name": "stdout",
     "output_type": "stream",
     "text": [
      "(<shapely.geometry.point.Point object at 0x1590FAD0>, <shapely.geometry.point.Point object at 0x0E5BDCF0>)\n",
      "POINT (1 1.67)\n",
      "POINT (0 1.45)\n"
     ]
    }
   ],
   "source": [
    "nearest_geoms = nearest_points(orig, destinations)\n",
    "\n",
    "near_idx0 = nearest_geoms[0]\n",
    "\n",
    "near_idx1 = nearest_geoms[1]\n",
    "\n",
    "print(nearest_geoms)\n",
    "print(near_idx0)\n",
    "print(near_idx1)"
   ]
  },
  {
   "cell_type": "markdown",
   "metadata": {},
   "source": [
    "As you can see the nearest_points() function returns a tuple of geometries where the first item is the geometry of our origin point and the second item (at index 1) is the actual nearest geometry from the destination points. "
   ]
  },
  {
   "cell_type": "markdown",
   "metadata": {},
   "source": [
    "### Nearest points using Geopandas"
   ]
  },
  {
   "cell_type": "markdown",
   "metadata": {},
   "source": [
    "First we need to create a function that takes advantage of the previous function but is tailored to work with two GeoDataFrames."
   ]
  },
  {
   "cell_type": "code",
   "execution_count": 51,
   "metadata": {},
   "outputs": [],
   "source": [
    "def nearest(row, geom_union, df1, df2, geom1_col='geometry', geom2_col='geometry', src_column=None):\n",
    "    \"\"\"Find the nearest point and return the corresponding value from specified column.\"\"\"\n",
    "    # Find the geometry that is closest\n",
    "    nearest = df2[geom2_col] == nearest_points(row[geom1_col], geom_union)[1]\n",
    "    # Get the corresponding value from df2 (matching is based on the geometry)\n",
    "    value = df2[nearest][src_column].get_values()[0]\n",
    "    return value"
   ]
  },
  {
   "cell_type": "markdown",
   "metadata": {},
   "source": [
    "Next we read the address data and the Helsinki districts data and find out the closest address to the centroid of each district."
   ]
  },
  {
   "cell_type": "code",
   "execution_count": 52,
   "metadata": {},
   "outputs": [],
   "source": [
    "import geopandas as gpd\n",
    "\n",
    "fp1 = \"Addr/PKS_suuralue.kml\"\n",
    "fp2 = \"C:\\\\Git\\\\CSC18\\\\data\\\\addresses_epsg3879.shp\"\n",
    "gpd.io.file.fiona.drvsupport.supported_drivers['KML'] = 'rw'\n",
    "\n",
    "df1 = gpd.read_file(fp1, driver='KML')\n",
    "df2 = gpd.read_file(fp2)"
   ]
  },
  {
   "cell_type": "code",
   "execution_count": 54,
   "metadata": {},
   "outputs": [
    {
     "name": "stdout",
     "output_type": "stream",
     "text": [
      "MULTIPOINT (25492292.61413005 6679039.264838208, 25492349.68368251 6681772.551210108, 25492897.83311823 6678862.26943441, 25493207.62503373 6680836.727432437, 25493575.10327127 6679775.868274149, 25494077.1680778 6678341.639159317, 25495635.44782235 6671797.871935087, 25495639.56049686 6671520.343245601, 25495836.25742668 6672458.597625383, 25496123.30852197 6672833.941567578, 25496306.30920038 6676211.034272739, 25496322.55781396 6672957.162111485, 25496774.28242895 6672999.698581985, 25496808.64582102 6673146.836896984, 25497049.7081222 6673227.232776705, 25497135.5775328 6678767.04148985, 25497196.67013156 6674059.991471453, 25497831.28028195 6675007.048962726, 25498174.30070278 6679599.77951518, 25498746.0795546 6674947.404346379, 25499639.85448116 6681224.080894819, 25500379.49456937 6675060.452120329, 25500695.82632081 6682093.423098667, 25501611.2877011 6683417.520330841, 25501615.71585255 6675703.010222347, 25501984.05772807 6684755.73132898, 25502247.80494508 6681307.904339339, 25502342.45409529 6676733.830883191, 25504192.75685866 6679210.154529678, 25504314.26187036 6677435.114529338, 25504526.0771747 6680245.787474845, 25505098.34340289 6677972.568484426, 25505983.32207587 6680617.204849547, 25506681.96711511 6676973.363885282, 25507901.29237312 6677200.897436376)\n"
     ]
    }
   ],
   "source": [
    "#Create unary union from Points, which basically creates a \n",
    "#MultiPoint object from the Point geometries.\n",
    "unary_union = df2.unary_union\n",
    "print(unary_union)"
   ]
  },
  {
   "cell_type": "code",
   "execution_count": 56,
   "metadata": {},
   "outputs": [
    {
     "data": {
      "text/html": [
       "<div>\n",
       "<style scoped>\n",
       "    .dataframe tbody tr th:only-of-type {\n",
       "        vertical-align: middle;\n",
       "    }\n",
       "\n",
       "    .dataframe tbody tr th {\n",
       "        vertical-align: top;\n",
       "    }\n",
       "\n",
       "    .dataframe thead th {\n",
       "        text-align: right;\n",
       "    }\n",
       "</style>\n",
       "<table border=\"1\" class=\"dataframe\">\n",
       "  <thead>\n",
       "    <tr style=\"text-align: right;\">\n",
       "      <th></th>\n",
       "      <th>Name</th>\n",
       "      <th>Description</th>\n",
       "      <th>geometry</th>\n",
       "      <th>centroid</th>\n",
       "    </tr>\n",
       "  </thead>\n",
       "  <tbody>\n",
       "    <tr>\n",
       "      <th>0</th>\n",
       "      <td>Suur-Espoonlahti</td>\n",
       "      <td></td>\n",
       "      <td>POLYGON Z ((24.775059677807 60.1090604462157 0...</td>\n",
       "      <td>POINT (24.76754037242762 60.0440879200116)</td>\n",
       "    </tr>\n",
       "    <tr>\n",
       "      <th>1</th>\n",
       "      <td>Suur-Kauklahti</td>\n",
       "      <td></td>\n",
       "      <td>POLYGON Z ((24.6157775254076 60.1725681273527 ...</td>\n",
       "      <td>POINT (24.57415010885406 60.19764302289445)</td>\n",
       "    </tr>\n",
       "    <tr>\n",
       "      <th>2</th>\n",
       "      <td>Vanha-Espoo</td>\n",
       "      <td></td>\n",
       "      <td>POLYGON Z ((24.6757633262026 60.2120070032819 ...</td>\n",
       "      <td>POINT (24.60400724339237 60.25253297356344)</td>\n",
       "    </tr>\n",
       "    <tr>\n",
       "      <th>3</th>\n",
       "      <td>Pohjois-Espoo</td>\n",
       "      <td></td>\n",
       "      <td>POLYGON Z ((24.767921197401 60.2691954732391 0...</td>\n",
       "      <td>POINT (24.68682879841453 60.30649462398335)</td>\n",
       "    </tr>\n",
       "    <tr>\n",
       "      <th>4</th>\n",
       "      <td>Suur-Matinkylä</td>\n",
       "      <td></td>\n",
       "      <td>POLYGON Z ((24.7536131356802 60.1663051341717 ...</td>\n",
       "      <td>POINT (24.76063843560942 60.15018263640097)</td>\n",
       "    </tr>\n",
       "  </tbody>\n",
       "</table>\n",
       "</div>"
      ],
      "text/plain": [
       "               Name Description  \\\n",
       "0  Suur-Espoonlahti               \n",
       "1    Suur-Kauklahti               \n",
       "2       Vanha-Espoo               \n",
       "3     Pohjois-Espoo               \n",
       "4    Suur-Matinkylä               \n",
       "\n",
       "                                            geometry  \\\n",
       "0  POLYGON Z ((24.775059677807 60.1090604462157 0...   \n",
       "1  POLYGON Z ((24.6157775254076 60.1725681273527 ...   \n",
       "2  POLYGON Z ((24.6757633262026 60.2120070032819 ...   \n",
       "3  POLYGON Z ((24.767921197401 60.2691954732391 0...   \n",
       "4  POLYGON Z ((24.7536131356802 60.1663051341717 ...   \n",
       "\n",
       "                                      centroid  \n",
       "0   POINT (24.76754037242762 60.0440879200116)  \n",
       "1  POINT (24.57415010885406 60.19764302289445)  \n",
       "2  POINT (24.60400724339237 60.25253297356344)  \n",
       "3  POINT (24.68682879841453 60.30649462398335)  \n",
       "4  POINT (24.76063843560942 60.15018263640097)  "
      ]
     },
     "execution_count": 56,
     "metadata": {},
     "output_type": "execute_result"
    }
   ],
   "source": [
    "#Calculate the centroids for each district area\n",
    "df1['centroid'] = df1.centroid\n",
    "df1.head()"
   ]
  },
  {
   "cell_type": "markdown",
   "metadata": {},
   "source": [
    "Now we are ready to use our function and find closest Points (taking the value from id column) from df2 to df1 centroids"
   ]
  },
  {
   "cell_type": "code",
   "execution_count": 57,
   "metadata": {},
   "outputs": [
    {
     "data": {
      "text/html": [
       "<div>\n",
       "<style scoped>\n",
       "    .dataframe tbody tr th:only-of-type {\n",
       "        vertical-align: middle;\n",
       "    }\n",
       "\n",
       "    .dataframe tbody tr th {\n",
       "        vertical-align: top;\n",
       "    }\n",
       "\n",
       "    .dataframe thead th {\n",
       "        text-align: right;\n",
       "    }\n",
       "</style>\n",
       "<table border=\"1\" class=\"dataframe\">\n",
       "  <thead>\n",
       "    <tr style=\"text-align: right;\">\n",
       "      <th></th>\n",
       "      <th>Name</th>\n",
       "      <th>Description</th>\n",
       "      <th>geometry</th>\n",
       "      <th>centroid</th>\n",
       "      <th>nearest_id</th>\n",
       "    </tr>\n",
       "  </thead>\n",
       "  <tbody>\n",
       "    <tr>\n",
       "      <th>0</th>\n",
       "      <td>Suur-Espoonlahti</td>\n",
       "      <td></td>\n",
       "      <td>POLYGON Z ((24.775059677807 60.1090604462157 0...</td>\n",
       "      <td>POINT (24.76754037242762 60.0440879200116)</td>\n",
       "      <td>1020</td>\n",
       "    </tr>\n",
       "    <tr>\n",
       "      <th>1</th>\n",
       "      <td>Suur-Kauklahti</td>\n",
       "      <td></td>\n",
       "      <td>POLYGON Z ((24.6157775254076 60.1725681273527 ...</td>\n",
       "      <td>POINT (24.57415010885406 60.19764302289445)</td>\n",
       "      <td>1020</td>\n",
       "    </tr>\n",
       "    <tr>\n",
       "      <th>2</th>\n",
       "      <td>Vanha-Espoo</td>\n",
       "      <td></td>\n",
       "      <td>POLYGON Z ((24.6757633262026 60.2120070032819 ...</td>\n",
       "      <td>POINT (24.60400724339237 60.25253297356344)</td>\n",
       "      <td>1020</td>\n",
       "    </tr>\n",
       "    <tr>\n",
       "      <th>3</th>\n",
       "      <td>Pohjois-Espoo</td>\n",
       "      <td></td>\n",
       "      <td>POLYGON Z ((24.767921197401 60.2691954732391 0...</td>\n",
       "      <td>POINT (24.68682879841453 60.30649462398335)</td>\n",
       "      <td>1020</td>\n",
       "    </tr>\n",
       "    <tr>\n",
       "      <th>4</th>\n",
       "      <td>Suur-Matinkylä</td>\n",
       "      <td></td>\n",
       "      <td>POLYGON Z ((24.7536131356802 60.1663051341717 ...</td>\n",
       "      <td>POINT (24.76063843560942 60.15018263640097)</td>\n",
       "      <td>1020</td>\n",
       "    </tr>\n",
       "    <tr>\n",
       "      <th>5</th>\n",
       "      <td>Kauniainen</td>\n",
       "      <td></td>\n",
       "      <td>POLYGON Z ((24.6907528033566 60.2195779731868 ...</td>\n",
       "      <td>POINT (24.71357964516679 60.21457067576294)</td>\n",
       "      <td>1020</td>\n",
       "    </tr>\n",
       "    <tr>\n",
       "      <th>6</th>\n",
       "      <td>Suur-Leppävaara</td>\n",
       "      <td></td>\n",
       "      <td>POLYGON Z ((24.797472695835 60.2082651196077 0...</td>\n",
       "      <td>POINT (24.77910492134015 60.22913609608545)</td>\n",
       "      <td>1020</td>\n",
       "    </tr>\n",
       "    <tr>\n",
       "      <th>7</th>\n",
       "      <td>Suur-Tapiola</td>\n",
       "      <td></td>\n",
       "      <td>POLYGON Z ((24.8443596422129 60.1659790707387 ...</td>\n",
       "      <td>POINT (24.79937514852226 60.17816655223976)</td>\n",
       "      <td>1020</td>\n",
       "    </tr>\n",
       "    <tr>\n",
       "      <th>8</th>\n",
       "      <td>Myyrmäki</td>\n",
       "      <td></td>\n",
       "      <td>POLYGON Z ((24.8245867448802 60.2902531157585 ...</td>\n",
       "      <td>POINT (24.81763652589348 60.27819504217397)</td>\n",
       "      <td>1020</td>\n",
       "    </tr>\n",
       "    <tr>\n",
       "      <th>9</th>\n",
       "      <td>Kivistö</td>\n",
       "      <td></td>\n",
       "      <td>POLYGON Z ((24.9430919106369 60.3384471629062 ...</td>\n",
       "      <td>POINT (24.84180592296876 60.34358057021768)</td>\n",
       "      <td>1020</td>\n",
       "    </tr>\n",
       "    <tr>\n",
       "      <th>10</th>\n",
       "      <td>Eteläinen</td>\n",
       "      <td></td>\n",
       "      <td>POLYGON Z ((24.7827651307035 60.09997268858 0,...</td>\n",
       "      <td>POINT (24.90837930087519 60.10976339578206)</td>\n",
       "      <td>1020</td>\n",
       "    </tr>\n",
       "    <tr>\n",
       "      <th>11</th>\n",
       "      <td>Kaakkoinen</td>\n",
       "      <td></td>\n",
       "      <td>POLYGON Z ((24.8480782099727 60.0275589731893 ...</td>\n",
       "      <td>POINT (25.05325169482274 60.05155324331345)</td>\n",
       "      <td>1020</td>\n",
       "    </tr>\n",
       "    <tr>\n",
       "      <th>12</th>\n",
       "      <td>Keskinen</td>\n",
       "      <td></td>\n",
       "      <td>POLYGON Z ((24.9085548098731 60.2082029641503 ...</td>\n",
       "      <td>POINT (24.95489633637751 60.20067297308771)</td>\n",
       "      <td>1020</td>\n",
       "    </tr>\n",
       "    <tr>\n",
       "      <th>13</th>\n",
       "      <td>Läntinen</td>\n",
       "      <td></td>\n",
       "      <td>POLYGON Z ((24.832174555671 60.2516121985945 0...</td>\n",
       "      <td>POINT (24.87614770011878 60.21754287289237)</td>\n",
       "      <td>1020</td>\n",
       "    </tr>\n",
       "    <tr>\n",
       "      <th>14</th>\n",
       "      <td>Pohjoinen</td>\n",
       "      <td></td>\n",
       "      <td>POLYGON Z ((24.8992644865152 60.2689368800439 ...</td>\n",
       "      <td>POINT (24.94156264995636 60.24654213027523)</td>\n",
       "      <td>1020</td>\n",
       "    </tr>\n",
       "    <tr>\n",
       "      <th>15</th>\n",
       "      <td>Koillinen</td>\n",
       "      <td></td>\n",
       "      <td>POLYGON Z ((24.9722813313308 60.2432476462193 ...</td>\n",
       "      <td>POINT (25.02148999795968 60.25026309396886)</td>\n",
       "      <td>1020</td>\n",
       "    </tr>\n",
       "    <tr>\n",
       "      <th>16</th>\n",
       "      <td>Aviapolis</td>\n",
       "      <td></td>\n",
       "      <td>POLYGON Z ((24.9430919106369 60.3384471629062 ...</td>\n",
       "      <td>POINT (24.93554952483983 60.30204064147746)</td>\n",
       "      <td>1020</td>\n",
       "    </tr>\n",
       "    <tr>\n",
       "      <th>17</th>\n",
       "      <td>Tikkurila</td>\n",
       "      <td></td>\n",
       "      <td>POLYGON Z ((24.9764047156358 60.2896890295612 ...</td>\n",
       "      <td>POINT (25.03931014564627 60.29804037805193)</td>\n",
       "      <td>1020</td>\n",
       "    </tr>\n",
       "    <tr>\n",
       "      <th>18</th>\n",
       "      <td>Koivukylä</td>\n",
       "      <td></td>\n",
       "      <td>POLYGON Z ((24.9942315864552 60.3329637072809 ...</td>\n",
       "      <td>POINT (25.05766837333244 60.32582581576258)</td>\n",
       "      <td>1020</td>\n",
       "    </tr>\n",
       "    <tr>\n",
       "      <th>19</th>\n",
       "      <td>Itäinen</td>\n",
       "      <td></td>\n",
       "      <td>POLYGON Z ((25.0351655840904 60.23627484214 0,...</td>\n",
       "      <td>POINT (25.12590828372607 60.20923259104367)</td>\n",
       "      <td>1020</td>\n",
       "    </tr>\n",
       "  </tbody>\n",
       "</table>\n",
       "</div>"
      ],
      "text/plain": [
       "                Name Description  \\\n",
       "0   Suur-Espoonlahti               \n",
       "1     Suur-Kauklahti               \n",
       "2        Vanha-Espoo               \n",
       "3      Pohjois-Espoo               \n",
       "4     Suur-Matinkylä               \n",
       "5         Kauniainen               \n",
       "6    Suur-Leppävaara               \n",
       "7       Suur-Tapiola               \n",
       "8           Myyrmäki               \n",
       "9            Kivistö               \n",
       "10         Eteläinen               \n",
       "11        Kaakkoinen               \n",
       "12          Keskinen               \n",
       "13          Läntinen               \n",
       "14         Pohjoinen               \n",
       "15         Koillinen               \n",
       "16         Aviapolis               \n",
       "17         Tikkurila               \n",
       "18         Koivukylä               \n",
       "19           Itäinen               \n",
       "\n",
       "                                             geometry  \\\n",
       "0   POLYGON Z ((24.775059677807 60.1090604462157 0...   \n",
       "1   POLYGON Z ((24.6157775254076 60.1725681273527 ...   \n",
       "2   POLYGON Z ((24.6757633262026 60.2120070032819 ...   \n",
       "3   POLYGON Z ((24.767921197401 60.2691954732391 0...   \n",
       "4   POLYGON Z ((24.7536131356802 60.1663051341717 ...   \n",
       "5   POLYGON Z ((24.6907528033566 60.2195779731868 ...   \n",
       "6   POLYGON Z ((24.797472695835 60.2082651196077 0...   \n",
       "7   POLYGON Z ((24.8443596422129 60.1659790707387 ...   \n",
       "8   POLYGON Z ((24.8245867448802 60.2902531157585 ...   \n",
       "9   POLYGON Z ((24.9430919106369 60.3384471629062 ...   \n",
       "10  POLYGON Z ((24.7827651307035 60.09997268858 0,...   \n",
       "11  POLYGON Z ((24.8480782099727 60.0275589731893 ...   \n",
       "12  POLYGON Z ((24.9085548098731 60.2082029641503 ...   \n",
       "13  POLYGON Z ((24.832174555671 60.2516121985945 0...   \n",
       "14  POLYGON Z ((24.8992644865152 60.2689368800439 ...   \n",
       "15  POLYGON Z ((24.9722813313308 60.2432476462193 ...   \n",
       "16  POLYGON Z ((24.9430919106369 60.3384471629062 ...   \n",
       "17  POLYGON Z ((24.9764047156358 60.2896890295612 ...   \n",
       "18  POLYGON Z ((24.9942315864552 60.3329637072809 ...   \n",
       "19  POLYGON Z ((25.0351655840904 60.23627484214 0,...   \n",
       "\n",
       "                                       centroid  nearest_id  \n",
       "0    POINT (24.76754037242762 60.0440879200116)        1020  \n",
       "1   POINT (24.57415010885406 60.19764302289445)        1020  \n",
       "2   POINT (24.60400724339237 60.25253297356344)        1020  \n",
       "3   POINT (24.68682879841453 60.30649462398335)        1020  \n",
       "4   POINT (24.76063843560942 60.15018263640097)        1020  \n",
       "5   POINT (24.71357964516679 60.21457067576294)        1020  \n",
       "6   POINT (24.77910492134015 60.22913609608545)        1020  \n",
       "7   POINT (24.79937514852226 60.17816655223976)        1020  \n",
       "8   POINT (24.81763652589348 60.27819504217397)        1020  \n",
       "9   POINT (24.84180592296876 60.34358057021768)        1020  \n",
       "10  POINT (24.90837930087519 60.10976339578206)        1020  \n",
       "11  POINT (25.05325169482274 60.05155324331345)        1020  \n",
       "12  POINT (24.95489633637751 60.20067297308771)        1020  \n",
       "13  POINT (24.87614770011878 60.21754287289237)        1020  \n",
       "14  POINT (24.94156264995636 60.24654213027523)        1020  \n",
       "15  POINT (25.02148999795968 60.25026309396886)        1020  \n",
       "16  POINT (24.93554952483983 60.30204064147746)        1020  \n",
       "17  POINT (25.03931014564627 60.29804037805193)        1020  \n",
       "18  POINT (25.05766837333244 60.32582581576258)        1020  \n",
       "19  POINT (25.12590828372607 60.20923259104367)        1020  "
      ]
     },
     "execution_count": 57,
     "metadata": {},
     "output_type": "execute_result"
    }
   ],
   "source": [
    "df1['nearest_id'] = df1.apply(nearest, geom_union=unary_union, df1=df1, df2=df2, geom1_col='centroid', src_column='id', axis=1)\n",
    "df1.head(20)"
   ]
  },
  {
   "cell_type": "code",
   "execution_count": null,
   "metadata": {},
   "outputs": [],
   "source": []
  }
 ],
 "metadata": {
  "kernelspec": {
   "display_name": "Python 3",
   "language": "python",
   "name": "python3"
  },
  "language_info": {
   "codemirror_mode": {
    "name": "ipython",
    "version": 3
   },
   "file_extension": ".py",
   "mimetype": "text/x-python",
   "name": "python",
   "nbconvert_exporter": "python",
   "pygments_lexer": "ipython3",
   "version": "3.6.5"
  }
 },
 "nbformat": 4,
 "nbformat_minor": 2
}
